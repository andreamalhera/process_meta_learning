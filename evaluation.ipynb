import pandas as pd

df = pd.read_csv("results/log_features.csv")
df
